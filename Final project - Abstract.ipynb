{
 "cells": [
  {
   "cell_type": "markdown",
   "metadata": {},
   "source": [
    "<img src=\"logo.png\" width=\"350\" height=\"350\" align=\"center\"/>"
   ]
  },
  {
   "cell_type": "markdown",
   "metadata": {},
   "source": [
    "<h1><center>Final project of the professional course in data science: Introduction</center></h1>\n",
    "\n",
    "<h4><center>Diego N. Vilela - Biomedical Scientist</center></h4>\n",
    "\n",
    "<h4><center>December 2019</center></h4>"
   ]
  },
  {
   "cell_type": "markdown",
   "metadata": {},
   "source": [
    "### _Abstract_\n",
    "\n",
    "___"
   ]
  },
  {
   "cell_type": "markdown",
   "metadata": {},
   "source": [
    "Given the freedom granted by Coursera | IBM, in creating my own data science project as a way of assessing my skills gained from the course, will devote my efforts to trying to make some impact on what I believe is of great relevance to our lives: freedom in its many forms. As a biomedical scientist, I am driven by a desire to help those who have no independence in their choices or actions, such as people who have suffered some kind of nervous or even physical damage, leading to a limited and often limited living condition. totally dependent on someone else. Normally, such a population is subject to prejudice and neglect by society, increasingly distancing and isolating each other. Thus, I intend to explore the regions of the state of São Paulo (BR) in search of places that have adapted or facilitated access for people with disabilities and analyze what are the common factors among them, creating an index of \"humanity\" as a model evaluation metric."
   ]
  },
  {
   "cell_type": "markdown",
   "metadata": {},
   "source": [
    "### _Motivation_\n",
    "\n",
    "___"
   ]
  },
  {
   "cell_type": "markdown",
   "metadata": {},
   "source": [
    "I believe that this work can help establishments adapt to everyone equally and also help the population to choose the places that can best meet their needs, having a positive impact on society and the lives of all."
   ]
  },
  {
   "cell_type": "markdown",
   "metadata": {},
   "source": [
    "### _Methodology_\n",
    "\n",
    "___"
   ]
  },
  {
   "cell_type": "markdown",
   "metadata": {},
   "source": [
    "I will use public data sources to capture information about the cities of the state of São Paulo (BR), such as population, geographical dimension and development indices. Additionally, I will make use of the geolocation libraries to acquire the coordinates of each of them and thus search for locations in the regions through the FourSquare API. After the information has been compiled, sites with easy access to those with disabilities will be classified and what these establishments or cities have in common, supported by unsupervised clustering algorithms. Basically, the process boils down to these steps:\n",
    "    \n",
    "* Understanding the problem to correctly direct efforts\n",
    "* Search for data that may collaborate with the study\n",
    "* Proper data acquisition, processing and storage\n",
    "* Exploratory data analysis for information gain\n",
    "* Application of statistical and computational methods for knowledge extraction\n",
    "* Results report\n",
    "* Conclusion"
   ]
  }
 ],
 "metadata": {
  "kernelspec": {
   "display_name": "Python 3",
   "language": "python",
   "name": "python3"
  },
  "language_info": {
   "codemirror_mode": {
    "name": "ipython",
    "version": 3
   },
   "file_extension": ".py",
   "mimetype": "text/x-python",
   "name": "python",
   "nbconvert_exporter": "python",
   "pygments_lexer": "ipython3",
   "version": "3.7.3"
  }
 },
 "nbformat": 4,
 "nbformat_minor": 4
}
