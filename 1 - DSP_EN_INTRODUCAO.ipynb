{
 "cells": [
  {
   "cell_type": "markdown",
   "metadata": {},
   "source": [
    "<img src=\"logo.png\" width=\"350\" height=\"350\" align=\"center\"/>"
   ]
  },
  {
   "cell_type": "markdown",
   "metadata": {},
   "source": [
    "### Final Project: Data Science Professional\n",
    "\n",
    "___\n",
    "\n",
    "Diego N. Vilela - Biomedical Scientist\n",
    "\n",
    "December, 2019"
   ]
  },
  {
   "cell_type": "markdown",
   "metadata": {},
   "source": [
    "### Introduction\n",
    "\n",
    "___"
   ]
  },
  {
   "cell_type": "markdown",
   "metadata": {},
   "source": [
    "Given the freedom granted by Coursera | IBM, in creating my own data science project as a way of assessing my skills gained from the course, will devote efforts to trying to make some impact on what I believe to be of great relevance to our lives: freedom in its many forms. As a biomedical scientist, I am driven by a desire to help those who have no independence in their choices or actions, such as people who have suffered some kind of nervous or even physical damage, leading to a limited and often limited living condition. totally dependent on someone else. Normally, such a population is subject to prejudice and neglect by society, increasingly distancing and isolating each other."
   ]
  },
  {
   "cell_type": "markdown",
   "metadata": {},
   "source": [
    "### Goals\n",
    "\n",
    "___"
   ]
  },
  {
   "cell_type": "markdown",
   "metadata": {},
   "source": [
    "I intend to explore the regions of the state of São Paulo (BR) in search of places that have adapted or facilitated access for people with disabilities and analyze what are the common factors among them, creating an index of \"humanity\" as a model evaluation metric."
   ]
  },
  {
   "cell_type": "markdown",
   "metadata": {},
   "source": [
    "### Motivation\n",
    "\n",
    "____"
   ]
  },
  {
   "cell_type": "markdown",
   "metadata": {},
   "source": [
    "I believe this work can help us get an overview of how municipalities and their categories of places care about their population who have special access conditions. For personal and ethical reasons, I will not address names or brands of establishments, as well as the laws that guarantee adaptation, because the purpose is only to evaluate the welfare of others."
   ]
  },
  {
   "cell_type": "markdown",
   "metadata": {},
   "source": [
    "### Methodology\n",
    "\n",
    "___"
   ]
  },
  {
   "cell_type": "markdown",
   "metadata": {},
   "source": [
    "I will use public data sources to capture information about the counties of the state of São Paulo (BR), such as population, geographical dimension and development indices. Additionally, I will make use of the geolocation libraries to acquire the coordinates of each of them and thus search for locations in the regions through the FourSquare API. After the information has been compiled, sites with easy access to those with disabilities will be classified and what these establishments or counties have in common, supported by unsupervised clustering algorithms. Basically, the process boils down to these steps:\n",
    "    \n",
    "* Understanding the problem to correctly direct efforts\n",
    "* Search for data that may collaborate with the study\n",
    "* Proper data acquisition, processing and storage\n",
    "* Exploratory data analysis for information gain\n",
    "* Application of statistical and computational methods for knowledge extraction\n",
    "* Results report\n",
    "* Conclusion"
   ]
  }
 ],
 "metadata": {
  "kernelspec": {
   "display_name": "Python 3",
   "language": "python",
   "name": "python3"
  },
  "language_info": {
   "codemirror_mode": {
    "name": "ipython",
    "version": 3
   },
   "file_extension": ".py",
   "mimetype": "text/x-python",
   "name": "python",
   "nbconvert_exporter": "python",
   "pygments_lexer": "ipython3",
   "version": "3.7.3"
  }
 },
 "nbformat": 4,
 "nbformat_minor": 4
}
